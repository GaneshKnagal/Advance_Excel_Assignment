{
 "cells": [
  {
   "cell_type": "markdown",
   "id": "57c5832a-c9ae-4d1c-a7c5-5159c2761921",
   "metadata": {},
   "source": [
    "### Advance Excel Assignment 2"
   ]
  },
  {
   "cell_type": "markdown",
   "id": "86a598d2-6dab-4b53-8253-3965e157d554",
   "metadata": {},
   "source": [
    "1. What does the dollar($) sign do?\n",
    "Ans: In Excel formulas, the dollar sign ($) is used to create absolute references. Here's a brief explanation:\n",
    "\n",
    "$A$1:\n",
    "\n",
    "Both the column and row are absolute. If you copy this cell reference to another cell, it will remain fixed on cell A1.\n",
    "A$1:\n",
    "\n",
    "The column is relative (it will adjust when copied horizontally), but the row is absolute (it will remain fixed on row 1).\n",
    "$A1:\n",
    "\n",
    "The column is absolute (it won't change when copied vertically), but the row is relative (it will adjust when copied horizontally).\n",
    "Using the dollar sign in references allows you to control which parts of a cell reference remain constant when you copy the formula to other cells."
   ]
  },
  {
   "cell_type": "markdown",
   "id": "65121175-cdbc-437a-a361-79684c60ef03",
   "metadata": {},
   "source": [
    "2. How to Change the Reference from Relative to Absolute (or Mixed)?\n",
    "Ans: To change a reference from relative to absolute (or mixed) in Excel, you can manually add or remove the dollar sign ($) from the cell reference. Here's how:\n",
    "\n",
    "For Absolute Reference:\n",
    "\n",
    "Add dollar signs before both the column letter and the row number.\n",
    "Example: Change A1 to $A$1.\n",
    "For Mixed Reference (Row Absolute, Column Relative):\n",
    "\n",
    "Add a dollar sign only before the row number.\n",
    "Example: Change A1 to A$1.\n",
    "For Mixed Reference (Row Relative, Column Absolute):\n",
    "\n",
    "Add a dollar sign only before the column letter.\n",
    "Example: Change A1 to $A1.\n",
    "To make these changes:\n",
    "\n",
    "In the Formula Bar:\n",
    "\n",
    "Click on the reference you want to modify.\n",
    "Manually add or remove the dollar signs.\n",
    "Using the F4 Key:\n",
    "\n",
    "While editing a formula, you can press the F4 key to toggle through different reference styles (relative, absolute, mixed).\n",
    "By adjusting the dollar signs, you can control how the reference behaves when you copy the formula to other cells."
   ]
  },
  {
   "cell_type": "markdown",
   "id": "ccd2ff07-9386-445b-9028-7e5ca140ff05",
   "metadata": {},
   "source": [
    "3. Explain the order of operations in excel?\n",
    "Ans: The order of operations in Excel follows the acronym PEMDAS, which stands for:\n",
    "\n",
    "P - Parentheses:\n",
    "\n",
    "Expressions inside parentheses are calculated first.\n",
    "E - Exponents:\n",
    "\n",
    "Exponential calculations are performed next.\n",
    "M/D - Multiplication and Division:\n",
    "\n",
    "Multiplication and division are performed from left to right.\n",
    "A/S - Addition and Subtraction:\n",
    "\n",
    "Addition and subtraction are performed from left to right.\n",
    "It's crucial to follow this order to ensure accurate results when creating complex formulas. If needed, you can use parentheses to prioritize specific parts of a formula and override the default order of operations."
   ]
  },
  {
   "cell_type": "markdown",
   "id": "9f63d6f8-b3b8-496a-b9f0-f018804476ad",
   "metadata": {},
   "source": [
    "4. What, according to you, are the top 5 functions in excel and write a basic syntax for any of two?\n",
    "Ans: The top 5 functions in Excel can vary based on specific needs, but commonly used ones include:\n",
    "\n",
    "SUM Function:\n",
    "\n",
    "Syntax: =SUM(number1, [number2], ...)\n",
    "Example: =SUM(A1:A10)\n",
    "VLOOKUP Function:\n",
    "\n",
    "Syntax: =VLOOKUP(lookup_value, table_array, col_index_num, [range_lookup])\n",
    "Example: =VLOOKUP(A2, B1:C10, 2, FALSE)\n",
    "IF Function:\n",
    "\n",
    "Syntax: =IF(logical_test, value_if_true, value_if_false)\n",
    "Example: =IF(A1>10, \"Yes\", \"No\")\n",
    "INDEX-MATCH Function (often used together):\n",
    "\n",
    "Syntax for INDEX: =INDEX(array, row_num, [column_num])\n",
    "\n",
    "Example: =INDEX(A1:A10, 3)\n",
    "\n",
    "Syntax for MATCH: =MATCH(lookup_value, lookup_array, [match_type])\n",
    "\n",
    "Example: =MATCH(B2, C1:C10, 0)\n",
    "\n",
    "AVERAGE Function:\n",
    "\n",
    "Syntax: =AVERAGE(number1, [number2], ...)\n",
    "Example: =AVERAGE(A1:A10)"
   ]
  },
  {
   "cell_type": "markdown",
   "id": "bb50e085-a423-4292-b155-6c07b145f09b",
   "metadata": {},
   "source": [
    "5. When would you use the subtotal function?\n",
    "Ans: The SUBTOTAL function in Excel is typically used when you want to perform a calculation on a filtered range of data. It allows you to perform various aggregate functions (like SUM, AVERAGE, COUNT, etc.) on visible cells while excluding hidden or filtered-out cells.\n",
    "\n",
    "Here's a short explanation:\n",
    "\n",
    "Usage Scenario:\n",
    "\n",
    "You might use the SUBTOTAL function when working with large datasets and applying filters to focus on specific subsets of data. Instead of manually adjusting your formulas to account for the filtered data, SUBTOTAL does this automatically.\n",
    "Syntax:\n",
    "\n",
    "SUBTOTAL(function_num, ref1, [ref2], ...)\n",
    "Example:\n",
    "\n",
    "=SUBTOTAL(109, A1:A100)\n",
    "This calculates the sum of visible cells in the range A1 to A100, excluding any cells hidden by a filter."
   ]
  },
  {
   "cell_type": "markdown",
   "id": "593c4448-922a-4e8e-8ddd-4d0713410463",
   "metadata": {},
   "source": [
    "6. What is the syntax of the vlookup function? Explain the terms in it?\n",
    "Ans: The VLOOKUP function in Excel has the following syntax:\n",
    "=VLOOKUP(lookup_value, table_array, col_index_num, [range_lookup])\n",
    "Explanation of terms:\n",
    "\n",
    "lookup_value:\n",
    "\n",
    "The value you want to search for in the first column of the table.\n",
    "table_array:\n",
    "\n",
    "The range that contains the data. It must include the column containing the lookup_value and the column you want to retrieve data from.\n",
    "col_index_num:\n",
    "\n",
    "The column number in the table_array from which to retrieve the value. The first column is 1, the second column is 2, and so on.\n",
    "range_lookup:\n",
    "\n",
    "Optional. This argument can be TRUE or FALSE.\n",
    "If TRUE or omitted, VLOOKUP will look for an approximate match.\n",
    "If FALSE, VLOOKUP will look for an exact match.\n",
    "Example:\n",
    "=VLOOKUP(A2, B1:C10, 2, FALSE)\n",
    "In this example:\n",
    "A2 is the value to look for.\n",
    "B1:C10 is the table array.\n",
    "2 is the column index number (the value to be retrieved is in the second column of the table).\n",
    "FALSE specifies an exact match."
   ]
  }
 ],
 "metadata": {
  "kernelspec": {
   "display_name": "Python 3 (ipykernel)",
   "language": "python",
   "name": "python3"
  },
  "language_info": {
   "codemirror_mode": {
    "name": "ipython",
    "version": 3
   },
   "file_extension": ".py",
   "mimetype": "text/x-python",
   "name": "python",
   "nbconvert_exporter": "python",
   "pygments_lexer": "ipython3",
   "version": "3.11.4"
  }
 },
 "nbformat": 4,
 "nbformat_minor": 5
}
