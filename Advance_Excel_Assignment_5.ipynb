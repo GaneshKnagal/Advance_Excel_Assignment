{
 "cells": [
  {
   "cell_type": "markdown",
   "id": "4cda8c63-2034-4c67-8663-e9d6bbb36ce9",
   "metadata": {},
   "source": [
    "### Advance Excel Assignment 5"
   ]
  },
  {
   "cell_type": "markdown",
   "id": "1deae085-e635-4840-aaf5-27c2836a976b",
   "metadata": {},
   "source": [
    "1. How many types of conditions are available in conditional formatting on Excel?\n",
    "Ans: In Excel's conditional formatting, there are several types of conditions that you can apply to highlight or format cells based on certain criteria. The major types include:\n",
    "\n",
    "Highlight Cells Rules:\n",
    "\n",
    "Greater Than\n",
    "Less Than\n",
    "Between\n",
    "Equal To\n",
    "Text that Contains\n",
    "A Date Occurring\n",
    "Top/Bottom Rules:\n",
    "\n",
    "Top 10 Items\n",
    "Top 10%\n",
    "Bottom 10 Items\n",
    "Bottom 10%\n",
    "Data Bars:\n",
    "\n",
    "Gradient fill based on cell values.\n",
    "Color Scales:\n",
    "\n",
    "Color gradients based on cell values.\n",
    "Icon Sets:\n",
    "\n",
    "Symbols or icons based on cell values.\n",
    "New Rule:\n",
    "\n",
    "Custom formulas and rules based on your specific conditions."
   ]
  },
  {
   "cell_type": "markdown",
   "id": "b919863e-2f1e-4be3-9bc2-0dd21e573882",
   "metadata": {},
   "source": [
    "2. How to insert border in Excel with Format Cells dialog?\n",
    "Ans: To insert a border in Excel using the Format Cells dialog, follow these steps:\n",
    "\n",
    "Select the Cells:\n",
    "\n",
    "Click and drag to select the cells or range where you want to add a border.\n",
    "Right-Click and Choose \"Format Cells\":\n",
    "\n",
    "Right-click on the selected cells, and choose \"Format Cells\" from the context menu.\n",
    "Go to the \"Border\" Tab:\n",
    "\n",
    "In the Format Cells dialog box, navigate to the \"Border\" tab.\n",
    "Select Border Style:\n",
    "\n",
    "Choose the desired border style from the options available, such as outline, inside, or outside borders.\n",
    "Choose Line Style and Color:\n",
    "\n",
    "Select the line style and color for the border.\n",
    "Click \"OK\":\n",
    "\n",
    "Click the \"OK\" button to apply the border to the selected cells."
   ]
  },
  {
   "cell_type": "markdown",
   "id": "d17a457f-69d2-46e9-ab06-89e58182d364",
   "metadata": {},
   "source": [
    "3. How to Format Numbers as Currency in Excel?\n",
    "Ans: To format numbers as currency in Excel, you can use the following steps:\n",
    "\n",
    "Select the Cells:\n",
    "\n",
    "Click and drag to select the cells or range containing the numbers you want to format.\n",
    "Go to the \"Home\" Tab:\n",
    "\n",
    "Navigate to the \"Home\" tab on the Excel ribbon.\n",
    "Open the Number Format Dropdown:\n",
    "\n",
    "In the \"Number\" group, you'll find a dropdown list for number formats. Click on it.\n",
    "Choose \"Currency\" Category:\n",
    "\n",
    "From the dropdown list, select the \"Currency\" category. You may see options for different currency symbols and formats.\n",
    "Adjust Decimal Places (Optional):\n",
    "\n",
    "If needed, you can adjust the number of decimal places by clicking the \"Increase Decimal\" or \"Decrease Decimal\" buttons in the \"Number\" group."
   ]
  },
  {
   "cell_type": "markdown",
   "id": "708fe332-afd1-4655-b600-17a86495a5bd",
   "metadata": {},
   "source": [
    "4. What are the steps to format numbers in Excel with the Percent style?\n",
    "Ans: To format numbers in Excel with the Percent style, follow these steps:\n",
    "\n",
    "Select the Cells:\n",
    "\n",
    "Click and drag to select the cells or range containing the numbers you want to format.\n",
    "Go to the \"Home\" Tab:\n",
    "\n",
    "Navigate to the \"Home\" tab on the Excel ribbon.\n",
    "Open the Number Format Dropdown:\n",
    "\n",
    "In the \"Number\" group, you'll find a dropdown list for number formats. Click on it.\n",
    "Choose \"Percentage\" Category:\n",
    "\n",
    "From the dropdown list, select the \"Percentage\" category.\n",
    "Adjust Decimal Places (Optional):\n",
    "\n",
    "If needed, you can adjust the number of decimal places by clicking the \"Increase Decimal\" or \"Decrease Decimal\" buttons in the \"Number\" group."
   ]
  },
  {
   "cell_type": "markdown",
   "id": "f9cd6a42-7ba6-4860-9aa5-19dbeb713b63",
   "metadata": {},
   "source": [
    "5. What is a shortcut to merge two or more cells in excel?\n",
    "Ans: In Excel, the shortcut to merge two or more cells is:\n",
    "\n",
    "Alt + H, M, M:\n",
    "Hold down the \"Alt\" key, then press \"H\" followed by \"M\" twice.\n",
    "This keyboard shortcut activates the \"Merge & Center\" option, merging the selected cells and centering the content horizontally within the merged cell. Remember that merged cells can impact certain functions and operations, so use them judiciously based on your specific needs."
   ]
  },
  {
   "cell_type": "markdown",
   "id": "d6be1861-45de-44aa-a2d2-2e7c1728c7f5",
   "metadata": {},
   "source": [
    "6. How do you use text commands in Excel?\n",
    "Ans: In Excel, you can use various text functions or commands to manipulate and analyze text data. Here's a short overview of how to use text commands:\n",
    "\n",
    "Concatenate (Combine Text):\n",
    "\n",
    "Syntax: =CONCATENATE(text1, [text2], ...)\n",
    "Example: =CONCATENATE(A1, \" \", B1)\n",
    "Left (Extract Left Part of Text):\n",
    "\n",
    "Syntax: =LEFT(text, num_chars)\n",
    "Example: =LEFT(A1, 5)\n",
    "Right (Extract Right Part of Text):\n",
    "\n",
    "Syntax: =RIGHT(text, num_chars)\n",
    "Example: =RIGHT(A1, 3)\n",
    "Mid (Extract Middle Part of Text):\n",
    "\n",
    "Syntax: =MID(text, start_num, num_chars)\n",
    "Example: =MID(A1, 3, 5)\n",
    "LEN (Count Number of Characters):\n",
    "\n",
    "Syntax: =LEN(text)\n",
    "Example: =LEN(A1)\n",
    "SEARCH (Find Position of a Substring):\n",
    "\n",
    "Syntax: =SEARCH(find_text, within_text, [start_num])\n",
    "Example: =SEARCH(\"apple\", A1)\n",
    "SUBSTITUTE (Replace Text):\n",
    "\n",
    "Syntax: =SUBSTITUTE(text, old_text, new_text, [instance_num])\n",
    "Example: =SUBSTITUTE(A1, \"apple\", \"orange\", 2)\n",
    "LOWER and UPPER (Convert Text Case):\n",
    "\n",
    "Syntax: =LOWER(text) and =UPPER(text)\n",
    "Example: =LOWER(A1)\n",
    "To use these commands, enter the formula in a cell and adjust the references and parameters based on your specific data and requirements. These functions help you manipulate and analyze text data in Excel."
   ]
  }
 ],
 "metadata": {
  "kernelspec": {
   "display_name": "Python 3 (ipykernel)",
   "language": "python",
   "name": "python3"
  },
  "language_info": {
   "codemirror_mode": {
    "name": "ipython",
    "version": 3
   },
   "file_extension": ".py",
   "mimetype": "text/x-python",
   "name": "python",
   "nbconvert_exporter": "python",
   "pygments_lexer": "ipython3",
   "version": "3.11.4"
  }
 },
 "nbformat": 4,
 "nbformat_minor": 5
}
